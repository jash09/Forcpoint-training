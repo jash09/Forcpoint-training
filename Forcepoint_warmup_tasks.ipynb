{
  "nbformat": 4,
  "nbformat_minor": 0,
  "metadata": {
    "colab": {
      "name": "Forcepoint_warmup_tasks.ipynb",
      "provenance": []
    },
    "kernelspec": {
      "name": "python3",
      "display_name": "Python 3"
    },
    "language_info": {
      "name": "python"
    }
  },
  "cells": [
    {
      "cell_type": "code",
      "execution_count": 7,
      "metadata": {
        "id": "38MiyENSWI9e"
      },
      "outputs": [],
      "source": [
        "# 1. Write an algorithm to reverse a character array. Method signature: public char [] reverse(char [] input).\n",
        "# Note:\n",
        "# 1.It is not allowed to use any inbuilt language function\n",
        "# 2. it is not allowed to use any temporary array\n",
        "# 3. Basically it should be an in place reversal \n",
        "def reverseArray(arr):\n",
        "    l = len(arr)\n",
        "    \n",
        "    for i in range(len(arr)//2):\n",
        "        arr[i] , arr[l-i-1] = arr[l-i-1] , arr[i]"
      ]
    },
    {
      "cell_type": "code",
      "source": [
        "arr = ['j','a','s','h']\n",
        "reverseArray(arr)\n",
        "print('Reversed array is',arr)"
      ],
      "metadata": {
        "colab": {
          "base_uri": "https://localhost:8080/"
        },
        "id": "eEhIH3xUWoIx",
        "outputId": "5e6bb5ec-1b57-44f3-869e-79c085f2b067"
      },
      "execution_count": 8,
      "outputs": [
        {
          "output_type": "stream",
          "name": "stdout",
          "text": [
            "Reversed array is ['h', 's', 'a', 'j']\n"
          ]
        }
      ]
    },
    {
      "cell_type": "code",
      "source": [
        "# 2. Find number of occurrences of each number from the array\n",
        "# Every number is in the range [0….100].\n",
        "# Public void numberOfOccurences (int [] input){\n",
        "# //write logic here\n",
        "# }\n",
        "# Note: expecting O(n) solution which means no sorting or nested loops allowed\n",
        "\n",
        "\n",
        "\n",
        "def numberOfOccurences(arr):\n",
        "    dic = {}\n",
        "\n",
        "    for i in arr:\n",
        "        if i in dic: \n",
        "            dic[i] = dic[i]+1\n",
        "        else: \n",
        "            dic[i] = 1\n",
        "\n",
        "    return dic\n"
      ],
      "metadata": {
        "id": "X_mbdFW3WsVn"
      },
      "execution_count": 16,
      "outputs": []
    },
    {
      "cell_type": "code",
      "source": [
        "arr = [3,6,7,4,3,12,12,14,14,7,14,99,100]\n",
        "\n",
        "numberOfOccurences(arr)"
      ],
      "metadata": {
        "colab": {
          "base_uri": "https://localhost:8080/"
        },
        "id": "8Le_UmWCXlIJ",
        "outputId": "23f4b6f7-9480-4bd3-dc62-9cf69a3be282"
      },
      "execution_count": 17,
      "outputs": [
        {
          "output_type": "execute_result",
          "data": {
            "text/plain": [
              "{3: 2, 4: 1, 6: 1, 7: 2, 12: 2, 14: 3, 99: 1, 100: 1}"
            ]
          },
          "metadata": {},
          "execution_count": 17
        }
      ]
    },
    {
      "cell_type": "code",
      "source": [
        "# 3. Find first maximum and second maximum number from an integer array\n",
        "# Note : expecting O(n) solution which means no sorting or nested loops allowed\n",
        "def maxFirstSecond(arr):\n",
        "    l=len(arr)\n",
        "    if(l>0):\n",
        "        first = sec = arr[0]  \n",
        "        if(l>1):   \n",
        "          for i in arr:\n",
        "            if i > first:\n",
        "                sec = first\n",
        "                first = i\n",
        "            elif i > sec and i < first:\n",
        "                sec = i\n",
        "        else:\n",
        "          return [arr[0],'No other elements']\n",
        "    else:\n",
        "        return print('No elements in array')\n",
        "\n",
        "\n",
        "    return [first,sec]\n",
        "\n",
        "arr = [2,5,4,99,77,55,9]\n",
        "\n",
        "maxFirstSecond(arr)"
      ],
      "metadata": {
        "colab": {
          "base_uri": "https://localhost:8080/"
        },
        "id": "xwXUrTRzYB4Z",
        "outputId": "8f266a50-3454-40c9-d8cb-f54c8a7c1f71"
      },
      "execution_count": 36,
      "outputs": [
        {
          "output_type": "execute_result",
          "data": {
            "text/plain": [
              "[99, 77]"
            ]
          },
          "metadata": {},
          "execution_count": 36
        }
      ]
    },
    {
      "cell_type": "code",
      "source": [
        "# 4. roundOff a float number having only one decimal place (3.2 = 3; 4.8 =5 etc)\n",
        "# Note: It is not allowed to use any inbuilt language function.\n",
        "def roundOffFloat(a):\n",
        "\n",
        "    deci = a - int(a)\n",
        "    if deci == 0:\n",
        "      print('Number is already rounded off')\n",
        "    elif deci >= 0.5:\n",
        "        return int(a) + 1\n",
        "    else:\n",
        "        return int(a)\n",
        "roundOffFloat(3.987)"
      ],
      "metadata": {
        "colab": {
          "base_uri": "https://localhost:8080/"
        },
        "id": "9grrwb4SZX8F",
        "outputId": "12ee4a5b-bf6e-493c-d577-882ddf98729c"
      },
      "execution_count": 42,
      "outputs": [
        {
          "output_type": "execute_result",
          "data": {
            "text/plain": [
              "4"
            ]
          },
          "metadata": {},
          "execution_count": 42
        }
      ]
    },
    {
      "cell_type": "code",
      "source": [
        "def digitsToArray(n):\n",
        "    arr = []\n",
        "    while(int(n)>0):\n",
        "        arr.append(n%10)\n",
        "        \n",
        "        n = int(n/10) \n",
        "    return arr\n",
        "\n",
        "for i in range(1000,10000):\n",
        "    arr = digitsToArray(i)\n",
        "    total = 0 \n",
        "    \n",
        "    for num in arr:\n",
        "        total += num ** 5\n",
        "        \n",
        "    \n",
        "    if (total == i) :\n",
        "        print(i)"
      ],
      "metadata": {
        "colab": {
          "base_uri": "https://localhost:8080/"
        },
        "id": "mcpVN2SfcRFe",
        "outputId": "27350d62-6ece-4e42-8764-528d51cf2e5b"
      },
      "execution_count": 48,
      "outputs": [
        {
          "output_type": "stream",
          "name": "stdout",
          "text": [
            "4150\n",
            "4151\n"
          ]
        }
      ]
    },
    {
      "cell_type": "code",
      "source": [
        "def most_frequent(arr):\n",
        "    freq_m = numberOfOccurences(arr)\n",
        "    \n",
        "    ans = arr[0]\n",
        "    f = freq_m[arr[0]]\n",
        "    \n",
        "    for i , j in freq_m.items():\n",
        "        if(j>f) :\n",
        "            ans = i \n",
        "            f = j\n",
        "    return ans\n",
        "\n",
        "arr = [1,1,1,1,2,2,2,3,3,3,3]\n",
        "most_frequent(arr)"
      ],
      "metadata": {
        "colab": {
          "base_uri": "https://localhost:8080/"
        },
        "id": "tEweEstUpeIn",
        "outputId": "46b69b95-6e9c-4f5f-9bad-2e769a725c10"
      },
      "execution_count": 61,
      "outputs": [
        {
          "output_type": "execute_result",
          "data": {
            "text/plain": [
              "1"
            ]
          },
          "metadata": {},
          "execution_count": 61
        }
      ]
    },
    {
      "cell_type": "code",
      "source": [
        "# 7. Given two sorted arrays in ascending order , write a function which takes both as input\n",
        "# and returns an array of common elements .\n",
        "#  A = [1,3,4,6,7,9]\n",
        "#  B=[1,2,4,5,9,10]\n",
        "#  OutputArray:[1,,4,9]\n",
        "# Note: Solution should be in O(n)\n",
        "\n",
        "\n",
        "def commonElements(array1 , array2):\n",
        "    i, j = 0, 0\n",
        "    answer =[]\n",
        "    while i < len(array1) and j < len(array2):\n",
        "        if array1[i] < array2[j]:\n",
        "            i += 1\n",
        "        elif array2[j] < array1[i]:\n",
        "            j+= 1\n",
        "        else:\n",
        "            answer.append(array1[i])\n",
        "            j += 1\n",
        "            i += 1\n",
        "    return answer\n",
        "            \n",
        "array1 = [1,2,3,4,5,6]\n",
        "array2 = [2,4,6,8]\n",
        "\n",
        "commonElements(array1 , array2)"
      ],
      "metadata": {
        "colab": {
          "base_uri": "https://localhost:8080/"
        },
        "id": "0yn3H-L0rYVw",
        "outputId": "94d8946a-61bd-4cd6-fb3c-c8a86883c380"
      },
      "execution_count": 62,
      "outputs": [
        {
          "output_type": "execute_result",
          "data": {
            "text/plain": [
              "[2, 4, 6]"
            ]
          },
          "metadata": {},
          "execution_count": 62
        }
      ]
    },
    {
      "cell_type": "code",
      "source": [
        ""
      ],
      "metadata": {
        "id": "Bbzazfifx6hU"
      },
      "execution_count": null,
      "outputs": []
    }
  ]
}